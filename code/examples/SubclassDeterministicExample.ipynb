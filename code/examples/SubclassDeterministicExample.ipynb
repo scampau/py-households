{
 "cells": [
  {
   "cell_type": "markdown",
   "metadata": {},
   "source": [
    "# A deterministic example with a subclass #\n",
    "\n",
    "This Notebook provides an easy way to run a  deterministic simulation (i.e. all probabilities are 1 or 0, so events either always or never happen). \n",
    "\n",
    "It also defines a subclass of Person called Counter, which just counts generations. This works as an example of how subclasses can be defined. Note that Counter uses the super().__init__ method to set itself up as a Person, and then adds additional functionality. The same is true for any other method: you can call super().leave_home() to call leave home as it is in the parent main.Person class, and surround it with code to set up or alter the effects.\n",
    "\n",
    "Other parts of this package are largely unchanged."
   ]
  },
  {
   "cell_type": "markdown",
   "metadata": {},
   "source": [
    "We start by loading the households package:"
   ]
  },
  {
   "cell_type": "code",
   "execution_count": 1,
   "metadata": {},
   "outputs": [
    {
     "name": "stdout",
     "output_type": "stream",
     "text": [
      "Importing the households package\n",
      "Importing identity\n",
      "importing kinship\n",
      "importing residency\n",
      "importing behavior\n",
      "loading narrative\n",
      "Importing main.py\n",
      "importing inheritance\n",
      "importing marriage\n",
      "importing mobility\n"
     ]
    }
   ],
   "source": [
    "import os\n",
    "os.chdir('..')\n",
    "from households import *\n",
    "import pandas\n",
    "import matplotlib.pyplot as plt\n",
    "import seaborn as sns\n",
    "#This is not needed, but is here as an example\n",
    "#import sys\n",
    "#sys.path.append('C:\\\\\\\\github\\\\\\\\Dummy-Classes')\n",
    "#import practice_class_functions"
   ]
  },
  {
   "cell_type": "markdown",
   "metadata": {},
   "source": [
    "(You'll only ever need to run this next line if you've made changes to the code and are needing to reload the package.)"
   ]
  },
  {
   "cell_type": "code",
   "execution_count": 2,
   "metadata": {},
   "outputs": [],
   "source": [
    "from households import *"
   ]
  },
  {
   "cell_type": "markdown",
   "metadata": {},
   "source": [
    "## Scheduling life events ##\n",
    "In this world everyone gets married at age 20, has up to four children, and dies at age 60. To accomplish this, we define AgeTables for eligibility (starting at an age of majority such that everyone achieves eligibility at 19 to be married at age 20 if sufficient partners exist), fertility (four years max of potential fertility when married), and mortality (univerally 1 starting at age 60, ensuring everyone dies then), with remarriage defined by an all-zero table."
   ]
  },
  {
   "cell_type": "code",
   "execution_count": 3,
   "metadata": {},
   "outputs": [],
   "source": [
    "age_of_majority = 19\n",
    "eligibility = AgeTable(ages = [0,age_of_majority,100], sex1 = female, rates1 = [0,1], sex2 = male, rates2 = [0,1])\n",
    "fertility = AgeTable(ages = [0,age_of_majority,age_of_majority+5,100], sex1 = female, rates1 = [0,1,0], sex2 = male, rates2 = [0,0,0])\n",
    "mortality = AgeTable(ages=[0,60,100],sex1 = male, rates1 = [0,1], sex2 = female, rates2 = [0,1])\n",
    "remarriage = AgeTable.NullAgeTable()\n"
   ]
  },
  {
   "cell_type": "markdown",
   "metadata": {},
   "source": [
    "All of these AgeTables need to be inserted into the appropriate syntax: in the case of mortality and fertility rates, these are still given directly to the starting community of `Persons`, while eligibility and remarriage are actually part of a `MarriageRule` that gets passed from the community to individual people.\n",
    "\n",
    "The three rules that we have to define are, at present, a `MarriageRule`, a `MobilityRule`, and an `InheritanceRule`. We treat these each in turn.\n",
    "\n",
    "\n",
    "### `MarriageRule`: Pick a random, single, eligible spouse\n",
    "\n",
    "The `MarriageRule` we will implement will use the `eligibility` and `remarriage` schedules above and then define what is involved in finding and marrying a spouse via the defined functions in `behavior.marriage`. In particular, we need to define:\n",
    "\n",
    "    1. who is considered a potential spouse,\n",
    "    2. how we will pick among the selection of spouses, and \n",
    "    3. where newlyweds live\n",
    "\n",
    "We define an eligible partner as any single, eligible (`unmarried`), non-sibling in the same community using `get_eligible_not_sibling_same_community`. We pick a spouse at random from the selection (`pick_spouse_random`) and then attempt to move the new couple in with the husband's family if there is space; otherwise they move to a new house (`locality_patrilocality`).\n",
    "\n",
    "### `MobilityRule`: Adult children leave a household with their nuclear family if it gets overcrowded\n",
    "\n",
    "The `MobilityRule` we will create will check whether an adult is living in an overcrowded house they don't own, and then move them with their spouse and children to a new house. There exists a default function to check whether a household is overcrowded (`check_household_overcrowded`), but we need to create a new function that combines this with the age check and the ownership check. We will call this function `check_household_nonowner_adult_man_overcrowded` to keep the nomenclature consistent. We then use the existing `who_leaves_house_family` to identify their family and `destination_random_house_same_village` to find a new house to move them to.\n",
    "\n",
    "### `InheritanceRule`: Let sons and then brothers' sons inherit houses, but only own one\n",
    "\n",
    "The `InheritanceRule` will be to check the male line of a family, starting with male children and followed by brothers' sons. We implement this by using the `find_heirs_multiple_constructor`, which combines multiple `find_heirs` functions into a single ordered list. We call this new function `find_heirs_sons_then_brothers_sons` and use it to defined the heirs of a person with a house to be inherited (`has_property_houses`). We then limit all heirs to lack property before inheritance (`limit_heirs_not_owners`), and say that the first heir in the list (who is therefore likely the oldest son or oldest brother's older son without a house) will be the one to inherit (`distribute_property_to_first_heir_and_move_household`). If inheritance fails, the house defaults to no owner, and once all family members leave or die it will default to no ownership (`failed_inheritance_no_owner`). \n",
    "\n",
    "### `BirthRule`: Use the fertility schedule without infanticide or maternal death\n",
    "\n",
    "Using the AgeTable for fertiltiy above, the `BirthRule` just passes this as the fertility for a married woman, with fertility for an unmarried woman defined as a NullAgeTable (always 0). The sex ratio is 50-50, and neither infanticide nor maternal death during childbirth are chosen as options."
   ]
  },
  {
   "cell_type": "code",
   "execution_count": 4,
   "metadata": {},
   "outputs": [],
   "source": [
    "#The MarriageRule\n",
    "marriagerule = behavior.marriage.MarriageRule(eligibility_agetable = eligibility, #defined above\n",
    "                                              get_eligible = behavior.marriage.get_eligible_not_sibling_same_community,\n",
    "                                              #find all single individuals in the village who aren't siblings\n",
    "                                              pick_spouse = behavior.marriage.pick_spouse_random, #pick a random spouse\n",
    "                                              locality = behavior.marriage.locality_patrilocality, #patrilocality\n",
    "                                              remarriage_agetable = remarriage #defined above\n",
    "                                             )\n",
    "\n",
    "#The MobilityRule\n",
    "def check_household_nonowner_adult_man_overcrowded(person):\n",
    "    \"\"\"Check that the household is overcrowded and that this person is not the owner and an adult.\"\"\"\n",
    "    overcrowded = behavior.mobility.check_household_overcrowded(person) #check overcrowding but also assert\n",
    "    ## that there is indeed a house to check\n",
    "    if overcrowded:\n",
    "        if person.age >= age_of_majority and person not in person.has_house.get_owners() and person.sex == identity.male:\n",
    "            #If above or at the age of majority and the person is a man who is not the owner of the house they live in\n",
    "            return True\n",
    "    return False\n",
    "\n",
    "mobilityrule = behavior.mobility.MobilityRule(check_household = check_household_nonowner_adult_man_overcrowded,\n",
    "                                                   who_leaves_house = behavior.mobility.who_leaves_house_family,\n",
    "                                                   destination = behavior.mobility.destination_random_house_same_village)\n",
    "\n",
    "#The InheritanceRule\n",
    "#Our custom function to check sons then brothers' sons;\n",
    "## note the use of lambda to make find_heirs_siblings_children into a single parameter function in order to define\n",
    "## the sex as male.\n",
    "find_heirs_sons_then_brothers_sons = behavior.inheritance.find_heirs_multiple_constructor(behavior.inheritance.find_heirs_sons_oldest_to_youngest,\n",
    "                                                     lambda p: behavior.inheritance.find_heirs_siblings_children_oldest_to_youngest(p,sex = identity.male))\n",
    "\n",
    "\n",
    "inheritancerule = behavior.inheritance.InheritanceRuleComplex(has_property = behavior.inheritance.has_property_houses,\n",
    "                                                                    find_heirs = find_heirs_sons_then_brothers_sons,\n",
    "                                                                    limit_heirs = behavior.inheritance.limit_heirs_not_owners,\n",
    "                                                                    distribute_property = behavior.inheritance.distribute_property_to_first_heir_and_move_household,\n",
    "                                                                    failure = behavior.inheritance.failed_inheritance_no_owner)\n",
    "\n",
    "birthrule = behavior.conception.BirthRule(marriedbirth = fertility,\n",
    "                                         unmarriedbirth = AgeTable.NullAgeTable(),\n",
    "                                         femalesexratio = .5,\n",
    "                                         maternaldeath = behavior.conception.maternal_death_zero,\n",
    "                                         infanticide = behavior.conception.infanticide_none)"
   ]
  },
  {
   "cell_type": "markdown",
   "metadata": {},
   "source": [
    "## Create a subclass\n",
    "For this example, the subclass only counts the generations since the start of the simulation."
   ]
  },
  {
   "cell_type": "code",
   "execution_count": 5,
   "metadata": {},
   "outputs": [],
   "source": [
    "class Counter(Person):\n",
    "    \"\"\"A person who knows how many generations they are from the start of the simulation\n",
    "    \n",
    "    \"\"\"\n",
    "    def __init__(self, sex, age, has_community, has_house, marriagerule, inheritancerule, mobilityrule, birthrule, mother = None, father = None):\n",
    "        # Set up this agent just like a regular person, conveniently accessed through super\n",
    "        super().__init__(sex, age, has_community, has_house, marriagerule, inheritancerule, mobilityrule, birthrule, mother, father)\n",
    "        #Now add a generation counter\n",
    "        self.generation = 0\n",
    "        #Might not be 0 though! Check if parents, and get their highest generation\n",
    "        if len(kinship.get_parents(self)) > 0:\n",
    "            self.generation = 1 + max([p.generation for p in kinship.get_parents(self)])\n",
    "\n",
    "class Apartment(House):\n",
    "    \"\"\"An apartment. Otherwise still a dwelling.\"\"\"\n",
    "    def __init__(self,maxpeople,has_community):\n",
    "        super().__init__(maxpeople,has_community) #create a house\n",
    "        self.apartment = True\n",
    "        \n"
   ]
  },
  {
   "cell_type": "code",
   "execution_count": 6,
   "metadata": {},
   "outputs": [],
   "source": [
    "from numpy.random import choice\n",
    "\n",
    "jobs_rates_pay = {'blacksmith':(.2,50),'farmer':(.5,20),'governor':(.01,1000),\n",
    "               'Landlord':(.05,200),'builder':(.2,50),'merchant':(.04,250),'weaver':(0,5),\n",
    "               'adolescent':(0,2),'child':(0,0),'elderly':(0,0)}\n",
    "childhood = 7\n",
    "adolescence = 14\n",
    "oldage = 65\n",
    "\n",
    "class Villager(Person):\n",
    "\n",
    "    def __init__(self, sex, age, has_community, has_house, marriagerule, inheritancerule,\n",
    "                 mobilityrule, birthrule, mother = None, father = None, jobs_rates_pay = jobs_rates_pay):\n",
    "        super().__init__(sex, age, has_community, has_house, marriagerule, inheritancerule, \n",
    "                         mobilityrule, birthrule, mother, father)\n",
    "        jobs = []\n",
    "        jobprobs = []\n",
    "        self.jobs_rates_pay = jobs_rates_pay\n",
    "        for job in jobs_rates_pay:\n",
    "            jobs.append(job)\n",
    "            jobprobs.append(jobs_rates_pay[job][0])\n",
    "        self.jobs = jobs\n",
    "        self.jobprobs = jobprobs\n",
    "        self.profession = None\n",
    "        self.money = 0\n",
    "        self.father = father\n",
    "        self.mother = mother\n",
    "        self.childhood = childhood\n",
    "        self.adolescence = adolescence\n",
    "        self.oldage = oldage\n",
    "        \n",
    "    \n",
    "    def pro_dev(self):\n",
    "\n",
    "        \n",
    "        if self.age <= childhood:\n",
    "            self.profession = 'child'\n",
    "\n",
    "        elif self.age <= adolescence:\n",
    "            self.professon = 'adolescent'\n",
    "\n",
    "        elif self.age <= oldage:\n",
    "            if self.sex == male:\n",
    "                if self.father == None:\n",
    "                    if self.profession is None or self.profession is 'child':\n",
    "                            self.profession = choice(self.jobs,p=self.jobprobs)\n",
    "                else:\n",
    "                    self.profession = self.father.profession\n",
    "                    if self.father.profession == 'governor' or self.father.profession == 'Landlord':\n",
    "                        if self.father.lifestatus != dead:\n",
    "                            self.profession = None\n",
    "            \n",
    "            if self.sex == female:\n",
    "                if self.mother == None:\n",
    "                    if self.profession is None or self.profession is 'child':\n",
    "                            self.profession = 'weaver'\n",
    "                else:\n",
    "                    self.profession = self.mother.profession\n",
    "        else:\n",
    "            self.profession = 'elderly'\n",
    "            \n",
    "    def income(self):\n",
    "        if self.profession == None:\n",
    "            pass\n",
    "        else:\n",
    "            self.money += self.jobs_rates_pay[self.profession][1]\n",
    "        "
   ]
  },
  {
   "cell_type": "code",
   "execution_count": 7,
   "metadata": {},
   "outputs": [],
   "source": [
    "class Commune(House):\n",
    "    \n",
    "    def __init__(self,maxpeople,has_community):\n",
    "        super().__init__(maxpeople,has_community)\n",
    "        self.money = 0\n",
    "        self.expenses = 0\n",
    "    \n",
    "    def household_income(self):\n",
    "        for p in self.people:\n",
    "            self.money += p.money\n",
    "            p.money = 0\n",
    "    \n",
    "    def household_expenses(self):\n",
    "        for p in self.people:\n",
    "            if p.sex == male and p.age in range(p.adolescence,p.oldage):\n",
    "                if p.profession != None:\n",
    "                    self.expenses += (p.jobs_rates_pay[p.profession][1])*0.1\n",
    "                else:\n",
    "                    self.expenses += 5\n",
    "            self.expenses += 2\n",
    "        \n",
    "        self.money -= self.expenses"
   ]
  },
  {
   "cell_type": "markdown",
   "metadata": {},
   "source": [
    "With all of these functions defined, we can now create the `World` of the simulation and our sole `Community`, Sweetwater."
   ]
  },
  {
   "cell_type": "code",
   "execution_count": 10,
   "metadata": {},
   "outputs": [],
   "source": [
    "start_pop = 100 #just a few people to start\n",
    "start_area = 0 #lots of room for growth\n",
    "start_age = age_of_majority - 1 #so that everyone makes the transition to marriage eligibility on time\n",
    "\n",
    "rd.seed(1237) #Used here to standardize the example code across runs for any random parts like name generation.\n",
    "terra = World()\n",
    "sweetwater = Community(world = terra,\n",
    "                       name = 'Sweetwater',\n",
    "                       pop = start_pop,\n",
    "                       area = 0,\n",
    "                       startage = start_age,\n",
    "                       mortab = mortality,\n",
    "                       birthtab = fertility,\n",
    "                       marriagerule = marriagerule,\n",
    "                       inheritancerule = inheritancerule,\n",
    "                       mobilityrule = mobilityrule,\n",
    "                       birthrule = birthrule,\n",
<<<<<<< Updated upstream
    "                       inhabitants = Counter)\n",
    "\n",
    "sweetwater.area = start_area\n",
    "for i in range(start_area):\n",
    "    sweetwater.houses.append(Apartment(10,sweetwater)) #Create each house with a maximum number of people who can reside there\n",
    "sweetwater.housingcapacity = sum([i.maxpeople for i in sweetwater.houses])  \n",
=======
    "                       inhabitants = Villager)\n",
    "for i in range(500):\n",
    "    sweetwater.houses.append(Commune(10,sweetwater))\n",
>>>>>>> Stashed changes
    "\n",
    "rd.seed(1237) #important to standardize after setup, just in case"
   ]
  },
  {
   "cell_type": "markdown",
   "metadata": {},
   "source": [
    "And there we have it! The hard work is setting up the functions; making the world and defining communities is easy. We can now run the simulation."
   ]
  },
  {
   "cell_type": "code",
   "execution_count": null,
   "metadata": {},
   "outputs": [],
   "source": [
    "while terra.year < 100: #run for 42 years\n",
    "    terra.progress()\n",
    "    for p in terra.people:\n",
    "        p.pro_dev()\n",
    "        p.income()\n",
    "    for h in terra.houses:\n",
    "        h.household_income()\n",
    "        h.household_expenses()\n",
    "    \n",
    "print(terra.year)"
   ]
  },
  {
   "cell_type": "markdown",
   "metadata": {},
   "source": [
    "We can now generate some figures to see what's been going on. For instance, let's see what birthyears are recorded in Diaries of individuals."
   ]
  },
  {
   "cell_type": "code",
   "execution_count": null,
   "metadata": {},
   "outputs": [],
   "source": [
    "f, (ax1, ax2, ax3) = plt.subplots(1,3, figsize = (12,4))\n",
    "#sns.set_style(\"whitegrid\")\n",
    "sns.distplot([min(d.get_events().keys()) for d in terra.library['Person']], kde = False, bins = range(100), ax = ax1)\n",
    "ax1.set_title(\"Birth years of people\")\n",
    "#plt.subtitle(\"Third generation is normally distributed.\")\n",
    "ax1.set_xlabel(\"Year\")\n",
    "ax1.set_ylabel(\"# births per year\")\n",
    "\n",
    "sns.distplot([l.year for i in range(len(terra.library['Person'])) for x in terra.library['Person'][i].get_events().items() for l in x[1] if isinstance(l,narrative.MarriageEvent)]\n",
    "             , kde = False, bins = range(100), ax = ax2)\n",
    "ax2.set_title(\"Marriages\")\n",
    "#ax2.subtitle(\"Third generation is normally distributed.\")\n",
    "ax2.set_xlabel(\"Year\")\n",
    "ax2.set_ylabel(\"# marriages per year\")\n",
    "\n",
    "sns.distplot([l.year for i in range(len(terra.library['Person'])) for x in terra.library['Person'][i].get_events().items() for l in x[1] if isinstance(l,narrative.DeathEvent)],\n",
    "             kde = False, bins = range(100), ax = ax3)\n",
    "ax3.set_title(\"Deaths\")\n",
    "#ax2.subtitle(\"Third generation is normally distributed.\")\n",
    "ax3.set_xlabel(\"Year\")\n",
    "ax3.set_ylabel(\"# deaths per year\")\n",
    "\n",
    "\n",
    "print('')\n",
    "#plt.hist([min(d.get_events().keys()) for d in terra.library['Person']], bins = range(45))"
   ]
  },
  {
   "cell_type": "markdown",
   "metadata": {},
   "source": [
    "Because of our Counter class, each person knows their generation in the simulation, which we can now look at."
   ]
  },
  {
   "cell_type": "code",
   "execution_count": null,
   "metadata": {},
   "outputs": [],
   "source": [
    "#generations = [p.generation for p in terra.people]\n",
    "#print('People alive from each generation in year {0}:'.format(terra.year))\n",
    "#for g in range(max(generations)+1):\n",
    "#    print('Generation {0}: {1} people'.format(g,generations.count(g)))"
   ]
  },
  {
   "cell_type": "markdown",
   "metadata": {},
   "source": [
    "In addition to viewing the entire world, we can also use the tools in narrative to explore single individuals and their households."
   ]
  },
  {
   "cell_type": "code",
   "execution_count": null,
   "metadata": {
    "scrolled": true
   },
   "outputs": [],
   "source": [
    "h = rd.choice([x for x in sweetwater.houses if len(x.people) >= 2])#pick a house with at least two people in it to make it interesting\n",
    "print('The house at ' + h.address + ' contains ' + narrative.census(h)+':')\n",
    "for x in h.people:\n",
    "    print(narrative.biography(x), \"\\n Father's profession:\",x.father.profession,\n",
    "          '\\n Profession, money:', x.profession, x.money) \n",
    "print(' ')\n",
    "\n",
    "\n"
   ]
  },
  {
   "cell_type": "code",
   "execution_count": null,
   "metadata": {},
   "outputs": [],
   "source": [
    "print(x.jobs_rates_pay[x.profession][0])\n",
    "print(h.money)"
   ]
  },
  {
   "cell_type": "code",
   "execution_count": null,
   "metadata": {},
   "outputs": [],
   "source": [
    "#Here is some space to explore the currently selected household, if you want.\n",
    "\n",
    "print(narrative.biography(h.people[0]))"
   ]
  },
  {
   "cell_type": "markdown",
   "metadata": {},
   "source": [
    "This provides the tools you need to implement and see some results of a simulation. \n",
    "\n",
    "The sections below provide some debugging tools."
   ]
  },
  {
   "cell_type": "code",
   "execution_count": null,
   "metadata": {},
   "outputs": [],
   "source": [
    "#Look up a single person based on memory\n",
    "p = [p for p in sweetwater.people if str(p) == '<households.main.Person object at 0x00000244063379C8>'][0]\n",
    "#behavior.mobility.check_household_overcrowded(p)\n",
    "#behavior.mobility.destination_random_house_same_village(None, [p])\n",
    "narrative.biography(p)\n",
    "narrative.census(p.has_house)\n",
    "for q in kinship.get_parents(p):\n",
    "    print(narrative.biography(q))\n",
    "    if q.has_house != None: print(narrative.census(q.has_house))"
   ]
  },
  {
   "cell_type": "code",
   "execution_count": null,
   "metadata": {},
   "outputs": [],
   "source": []
  },
  {
   "cell_type": "code",
   "execution_count": null,
   "metadata": {},
   "outputs": [],
   "source": []
  }
 ],
 "metadata": {
  "kernelspec": {
   "display_name": "Python 3",
   "language": "python",
   "name": "python3"
  },
  "language_info": {
   "codemirror_mode": {
    "name": "ipython",
    "version": 3
   },
   "file_extension": ".py",
   "mimetype": "text/x-python",
   "name": "python",
   "nbconvert_exporter": "python",
   "pygments_lexer": "ipython3",
   "version": "3.7.6"
  }
 },
 "nbformat": 4,
 "nbformat_minor": 4
}
